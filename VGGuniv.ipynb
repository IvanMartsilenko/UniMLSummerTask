{
    "cells": [
        {
            "cell_type": "code",
            "execution_count": 1,
            "metadata": {},
            "outputs": [
                {
                    "name": "stdout",
                    "output_type": "stream",
                    "text": "Requirement already satisfied: kaggle in /opt/conda/envs/Python36/lib/python3.6/site-packages (1.5.8)\nRequirement already satisfied: urllib3<1.25,>=1.21.1 in /opt/conda/envs/Python36/lib/python3.6/site-packages (from kaggle) (1.24.1)\nRequirement already satisfied: requests in /opt/conda/envs/Python36/lib/python3.6/site-packages (from kaggle) (2.21.0)\nRequirement already satisfied: python-slugify in /opt/conda/envs/Python36/lib/python3.6/site-packages (from kaggle) (4.0.1)\nRequirement already satisfied: tqdm in /opt/conda/envs/Python36/lib/python3.6/site-packages (from kaggle) (4.31.1)\nRequirement already satisfied: six>=1.10 in /opt/conda/envs/Python36/lib/python3.6/site-packages (from kaggle) (1.12.0)\nRequirement already satisfied: slugify in /opt/conda/envs/Python36/lib/python3.6/site-packages (from kaggle) (0.0.1)\nRequirement already satisfied: python-dateutil in /opt/conda/envs/Python36/lib/python3.6/site-packages (from kaggle) (2.7.5)\nRequirement already satisfied: certifi in /opt/conda/envs/Python36/lib/python3.6/site-packages (from kaggle) (2020.6.20)\nRequirement already satisfied: idna<2.9,>=2.5 in /opt/conda/envs/Python36/lib/python3.6/site-packages (from requests->kaggle) (2.8)\nRequirement already satisfied: chardet<3.1.0,>=3.0.2 in /opt/conda/envs/Python36/lib/python3.6/site-packages (from requests->kaggle) (3.0.4)\nRequirement already satisfied: text-unidecode>=1.3 in /opt/conda/envs/Python36/lib/python3.6/site-packages (from python-slugify->kaggle) (1.3)\n"
                }
            ],
            "source": "!pip install kaggle\n!cd ..; echo \"{\\\"username\\\":\\\"ivanmartsilenko\\\",\\\"key\\\":\\\"7431c16be21ea477ba7e74d990f21581\\\"}\" > .kaggle/kaggle.json"
        },
        {
            "cell_type": "code",
            "execution_count": null,
            "metadata": {},
            "outputs": [
                {
                    "name": "stdout",
                    "output_type": "stream",
                    "text": "Warning: Your Kaggle API key is readable by other users on this system! To fix this, you can run 'chmod 600 /home/dsxuser/.kaggle/kaggle.json'\nchest-xray-pneumonia.zip: Skipping, found more recently modified local copy (use --force to force download)\n"
                }
            ],
            "source": "!kaggle datasets download -d paultimothymooney/chest-xray-pneumonia"
        },
        {
            "cell_type": "code",
            "execution_count": null,
            "metadata": {},
            "outputs": [
                {
                    "name": "stdout",
                    "output_type": "stream",
                    "text": "Archive:  chest-xray-pneumonia.zip\r\nreplace chest_xray/__MACOSX/._chest_xray? [y]es, [n]o, [A]ll, [N]one, [r]ename: "
                }
            ],
            "source": "!unzip *.zip"
        },
        {
            "cell_type": "code",
            "execution_count": null,
            "metadata": {},
            "outputs": [],
            "source": "n"
        },
        {
            "cell_type": "code",
            "execution_count": null,
            "metadata": {},
            "outputs": [],
            "source": "from __future__ import print_function\nfrom keras import backend as K\nfrom keras import activations\nfrom keras import utils\nfrom keras.models import Model\nfrom keras.layers import *\nfrom keras.preprocessing.image import ImageDataGenerator\nfrom keras.applications.vgg16 import VGG16, preprocess_input\nfrom keras.optimizers import RMSprop, Adam, SGD, Nadam\nfrom keras.preprocessing.image import ImageDataGenerator\nfrom keras.callbacks import ReduceLROnPlateau, ModelCheckpoint, EarlyStopping\nfrom keras import regularizers\n\n\nimport numpy as np\nimport pandas as pd\nimport matplotlib.pyplot as plt\nimport os\n\nIMG_SIZE = 299"
        },
        {
            "cell_type": "code",
            "execution_count": null,
            "metadata": {},
            "outputs": [],
            "source": "def DataGenerator(train_batch, val_batch, IMG_SIZE):\n    datagen = ImageDataGenerator(preprocessing_function=preprocess_input,\n                                 rescale=1./255,\n                                 rotation_range=10,\n                                 horizontal_flip=True,\n                                 vertical_flip=True)\n\n    datagen.mean=np.array([103.939, 116.779, 123.68],dtype=np.float32).reshape(1,1,3)\n    train_gen = datagen.flow_from_directory('./chest_xray/train/',\n                                            target_size=(IMG_SIZE, IMG_SIZE),\n                                            color_mode='rgb', \n                                            class_mode='categorical',\n                                            batch_size=train_batch)\n\n    val_gen = datagen.flow_from_directory('./chest_xray/val/', \n                                          target_size=(IMG_SIZE, IMG_SIZE),\n                                          color_mode='rgb', \n                                          class_mode='categorical',\n                                          batch_size=val_batch)\n\n    datagen = ImageDataGenerator(preprocessing_function=preprocess_input,\n                                 rescale=1./255)\n    \n    datagen.mean=np.array([103.939, 116.779, 123.68],dtype=np.float32).reshape(1,1,3)\n\n    test_gen = datagen.flow_from_directory('./chest_xray/test/', \n                                           target_size=(IMG_SIZE, IMG_SIZE),\n                                           color_mode='rgb', \n                                           class_mode='categorical',\n                                           shuffle=False)\n    \n    return train_gen, val_gen, test_gen"
        },
        {
            "cell_type": "code",
            "execution_count": null,
            "metadata": {},
            "outputs": [],
            "source": "# define our own softmax function instead of K.softmax\n# because K.softmax can not specify axis.\ndef softmax(x, axis=-1):\n    ex = K.exp(x - K.max(x, axis=axis, keepdims=True))\n    return ex / K.sum(ex, axis=axis, keepdims=True)"
        },
        {
            "cell_type": "code",
            "execution_count": null,
            "metadata": {},
            "outputs": [],
            "source": "# define the margin loss like hinge loss\ndef margin_loss(y_true, y_pred):\n    lamb, margin = 0.5, 0.1 #default lambda 0.5 - but test with lambda with 0.9 - 0.1\n    return K.sum(y_true * K.square(K.relu(1 - margin - y_pred)) + lamb * (\n        1 - y_true) * K.square(K.relu(y_pred - margin)), axis=-1)"
        },
        {
            "cell_type": "code",
            "execution_count": null,
            "metadata": {},
            "outputs": [],
            "source": "class Capsule(Layer):\n    \"\"\"A Capsule Implement with Pure Keras\n    There are two vesions of Capsule.\n    One is like dense layer (for the fixed-shape input),\n    and the other is like timedistributed dense (for various length input).\n\n    The input shape of Capsule must be (batch_size,\n                                        input_num_capsule,\n                                        input_dim_capsule\n                                       )\n    and the output shape is (batch_size,\n                             num_capsule,\n                             dim_capsule\n                            )\n\n    Capsule Implement is from https://github.com/bojone/Capsule/\n    Capsule Paper: https://arxiv.org/abs/1710.09829\n    \"\"\"\n\n    def __init__(self,\n                 num_capsule,\n                 dim_capsule,\n                 routings=3, # Test number of routing with (1, 2, 3, 4) - Default = 3\n                 share_weights=True,\n                 activation='squash',\n                 **kwargs):\n        super(Capsule, self).__init__(**kwargs)\n        self.num_capsule = num_capsule\n        self.dim_capsule = dim_capsule\n        self.routings = routings\n        self.share_weights = share_weights\n        if activation == 'squash':\n            self.activation = squash\n        else:\n            self.activation = activations.get(activation)\n\n    def build(self, input_shape):\n        input_dim_capsule = input_shape[-1]\n        if self.share_weights:\n            self.kernel = self.add_weight(\n                name='capsule_kernel',\n                shape=(1, input_dim_capsule,\n                       self.num_capsule * self.dim_capsule),\n                initializer='glorot_uniform',\n                trainable=True)\n        else:\n            input_num_capsule = input_shape[-2]\n            self.kernel = self.add_weight(\n                name='capsule_kernel',\n                shape=(input_num_capsule, input_dim_capsule,\n                       self.num_capsule * self.dim_capsule),\n                initializer='glorot_uniform',\n                trainable=True)\n\n    def call(self, inputs):\n        \"\"\"Following the routing algorithm from Hinton's paper,\n        but replace b = b + <u,v> with b = <u,v>.\n\n        This change can improve the feature representation of Capsule.\n\n        However, you can replace\n            b = K.batch_dot(outputs, hat_inputs, [2, 3])\n        with\n            b += K.batch_dot(outputs, hat_inputs, [2, 3])\n        to realize a standard routing.\n        \"\"\"\n\n        if self.share_weights:\n            hat_inputs = K.conv1d(inputs, self.kernel)\n        else:\n            hat_inputs = K.local_conv1d(inputs, self.kernel, [1], [1])\n\n        batch_size = K.shape(inputs)[0]\n        input_num_capsule = K.shape(inputs)[1]\n        hat_inputs = K.reshape(hat_inputs,\n                               (batch_size, input_num_capsule,\n                                self.num_capsule, self.dim_capsule))\n        hat_inputs = K.permute_dimensions(hat_inputs, (0, 2, 1, 3))\n\n        b = K.zeros_like(hat_inputs[:, :, :, 0])\n        for i in range(self.routings):\n            c = softmax(b, 1)\n            o = self.activation(K.batch_dot(c, hat_inputs, [2, 2]))\n            if i < self.routings - 1:\n                b = K.batch_dot(o, hat_inputs, [2, 3])\n                if K.backend() == 'theano':\n                    o = K.sum(o, axis=1)\n\n        return o\n\n    def compute_output_shape(self, input_shape):\n        return (None, self.num_capsule, self.dim_capsule)"
        },
        {
            "cell_type": "code",
            "execution_count": null,
            "metadata": {},
            "outputs": [],
            "source": "train_batch = 32\nval_batch = 1\n\ntrain, val, test = DataGenerator(train_batch, val_batch, IMG_SIZE)"
        },
        {
            "cell_type": "code",
            "execution_count": null,
            "metadata": {},
            "outputs": [],
            "source": "input_image = Input(shape=(IMG_SIZE, IMG_SIZE, 3))\n\n\n# A InceptionResNetV2 Conv2D model\nbase_model = VGG16(include_top=False, weights='imagenet', input_tensor=input_image)\n\nbase_model.summary()\n"
        },
        {
            "cell_type": "code",
            "execution_count": null,
            "metadata": {
                "scrolled": true
            },
            "outputs": [],
            "source": "for layer in base_model.layers:\n    layer.trainable = False\n    print(layer, layer.trainable)"
        },
        {
            "cell_type": "code",
            "execution_count": null,
            "metadata": {
                "scrolled": true
            },
            "outputs": [],
            "source": "x = GlobalAveragePooling2D()(base_model.output)\nx = Dense(4096, activation='relu')(x)\nx = Dropout(0.5)(x)\noutput = Dense(2, activation='softmax')(x)\n\nmodel = Model(inputs=input_image, outputs=output)\n\nmodel.summary()"
        },
        {
            "cell_type": "code",
            "execution_count": null,
            "metadata": {},
            "outputs": [],
            "source": "lr=1e-4\n"
        },
        {
            "cell_type": "code",
            "execution_count": null,
            "metadata": {},
            "outputs": [],
            "source": ""
        },
        {
            "cell_type": "code",
            "execution_count": null,
            "metadata": {},
            "outputs": [],
            "source": "for i, layer in enumerate(model.layers):\n    if i < 15:\n        layer.trainable = False\n    else:\n        layer.trainable = True"
        },
        {
            "cell_type": "code",
            "execution_count": null,
            "metadata": {},
            "outputs": [],
            "source": "model.compile(loss='categorical_crossentropy', optimizer=SGD(lr=lr, momentum=0.9), metrics=['accuracy'])"
        },
        {
            "cell_type": "code",
            "execution_count": null,
            "metadata": {},
            "outputs": [],
            "source": "model.fit_generator(train,\n                    epochs=10,\n                    validation_data=val, \n                    validation_steps = len(val.classes)//val_batch,\n                    steps_per_epoch=(len(train.classes)//train_batch) * 2) \n    \nloss, acc = model.evaluate_generator(test, len(test))\n\nprint (\"\\n\\n================================\\n\\n\")\nprint (\"Loss: {}\".format(loss))\nprint (\"Accuracy: {0:.2f} %\".format(acc * 100))\nprint (\"\\n\\n================================\\n\\n\")\n\ntest.reset()"
        },
        {
            "cell_type": "code",
            "execution_count": null,
            "metadata": {},
            "outputs": [],
            "source": "output = Conv2D(256, kernel_size=(9, 9), strides=(1, 1), activation='relu')(base_model.get_layer(name='block5_pool').output)\n\nx = Reshape((-1, 256))(output)\ncapsule = Capsule(2, 16, 4, True)(x)\noutput = Lambda(lambda z: K.sqrt(K.sum(K.square(z), 2)))(capsule)\nmodel = Model(inputs=input_image, outputs=output)\n\nmodel.summary()"
        },
        {
            "cell_type": "code",
            "execution_count": null,
            "metadata": {},
            "outputs": [],
            "source": ""
        },
        {
            "cell_type": "code",
            "execution_count": null,
            "metadata": {},
            "outputs": [],
            "source": ""
        }
    ],
    "metadata": {
        "kernelspec": {
            "display_name": "Python 3.6",
            "language": "python",
            "name": "python3"
        },
        "language_info": {
            "codemirror_mode": {
                "name": "ipython",
                "version": 3
            },
            "file_extension": ".py",
            "mimetype": "text/x-python",
            "name": "python",
            "nbconvert_exporter": "python",
            "pygments_lexer": "ipython3",
            "version": "3.6.9"
        }
    },
    "nbformat": 4,
    "nbformat_minor": 1
}